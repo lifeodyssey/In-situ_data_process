{
 "cells": [
  {
   "cell_type": "code",
   "execution_count": 1,
   "metadata": {
    "ExecuteTime": {
     "end_time": "2021-03-02T05:52:40.258220Z",
     "start_time": "2021-03-02T05:52:39.336919Z"
    }
   },
   "outputs": [],
   "source": [
    "import numpy as np\n",
    "import matplotlib.pyplot as plt\n",
    "import scipy.optimize\n",
    "import pandas as pd"
   ]
  },
  {
   "cell_type": "code",
   "execution_count": 42,
   "metadata": {
    "ExecuteTime": {
     "end_time": "2021-03-02T07:34:41.155784Z",
     "start_time": "2021-03-02T07:34:41.148419Z"
    },
    "code_folding": [
     0,
     5,
     10,
     15,
     20,
     25,
     30,
     35
    ]
   },
   "outputs": [],
   "source": [
    "AP_S1={'Sample':['A0806S11','A0806S12'],\n",
    "            'Before Blank':['A0806_B1','A0806_B2'],\n",
    "            'After Blank':['A0806_B3','A0806_B5'],\n",
    "         'Vol':200,\n",
    "         'Diameter':[22.41,22.44,21.45]}\n",
    "AP_S2={'Sample':['A0806S11','A0806S12'],\n",
    "            'Before Blank':['A0806_B1','A0806_B2'],\n",
    "            'After Blank':['A0806_B3','A0806_B5'],\n",
    "         'Vol':200,\n",
    "         'Diameter':[22.41,22.44,21.45]}\n",
    "AP_S3={'Sample':['A0806S11','A0806S12'],\n",
    "            'Before Blank':['A0806_B1','A0806_B2'],\n",
    "            'After Blank':['A0806_B3','A0806_B5'],\n",
    "         'Vol':200,\n",
    "         'Diameter':[22.41,22.44,21.45]}\n",
    "AP_S4={'Sample':['A0806S11','A0806S12'],\n",
    "            'Before Blank':['A0806_B1','A0806_B2'],\n",
    "            'After Blank':['A0806_B3','A0806_B5'],\n",
    "         'Vol':200,\n",
    "         'Diameter':[22.41,22.44,21.45]}\n",
    "AP_S5={'Sample':['A0806S11','A0806S12'],\n",
    "            'Before Blank':['A0806_B1','A0806_B2'],\n",
    "            'After Blank':['A0806_B3','A0806_B5'],\n",
    "         'Vol':200,\n",
    "         'Diameter':[22.41,22.44,21.45]}\n",
    "AP_S6={'Sample':['A0806S11','A0806S12'],\n",
    "            'Before Blank':['A0806_B1','A0806_B2'],\n",
    "            'After Blank':['A0806_B3','A0806_B5'],\n",
    "         'Vol':200,\n",
    "         'Diameter':[22.41,22.44,21.45]}\n",
    "AP_S7={'Sample':['A0806S11','A0806S12'],\n",
    "            'Before Blank':['A0806_B1','A0806_B2'],\n",
    "            'After Blank':['A0806_B3','A0806_B5'],\n",
    "         'Vol':200,\n",
    "         'Diameter':[22.41,22.44,21.45]}\n",
    "AP_S8={'Sample':['A0806S11','A0806S12'],\n",
    "            'Before Blank':['A0806_B1','A0806_B2'],\n",
    "            'After Blank':['A0806_B3','A0806_B5'],\n",
    "         'Vol':200,\n",
    "         'Diameter':[22.41,22.44,21.45]}"
   ]
  },
  {
   "cell_type": "code",
   "execution_count": 43,
   "metadata": {
    "ExecuteTime": {
     "end_time": "2021-03-02T07:35:02.128011Z",
     "start_time": "2021-03-02T07:35:02.122460Z"
    },
    "code_folding": [
     0,
     3,
     6,
     9,
     12,
     15,
     18,
     21
    ]
   },
   "outputs": [],
   "source": [
    "AD_S1={'Sample':['D0806-S1','D0806-S2'],\n",
    "            'Before Blank':['D0806-B1','D0806-B2'],\n",
    "            'After Blank':['D0806-B3','D0806-B4'],}\n",
    "AD_S2={'Sample':['D0806-S1','D0806-S2'],\n",
    "            'Before Blank':['D0806-B1','D0806-B2'],\n",
    "            'After Blank':['D0806-B3','D0806-B4'],}\n",
    "AD_S3={'Sample':['D0806-S1','D0806-S2'],\n",
    "            'Before Blank':['D0806-B1','D0806-B2'],\n",
    "            'After Blank':['D0806-B3','D0806-B4'],}\n",
    "AD_S4={'Sample':['D0806-S1','D0806-S2'],\n",
    "            'Before Blank':['D0806-B1','D0806-B2'],\n",
    "            'After Blank':['D0806-B3','D0806-B4'],}\n",
    "AD_S5={'Sample':['D0806-S1','D0806-S2'],\n",
    "            'Before Blank':['D0806-B1','D0806-B2'],\n",
    "            'After Blank':['D0806-B3','D0806-B4'],}\n",
    "AD_S6={'Sample':['D0806-S1','D0806-S2'],\n",
    "            'Before Blank':['D0806-B1','D0806-B2'],\n",
    "            'After Blank':['D0806-B3','D0806-B4'],}\n",
    "AD_S7={'Sample':['D0806-S1','D0806-S2'],\n",
    "            'Before Blank':['D0806-B1','D0806-B2'],\n",
    "            'After Blank':['D0806-B3','D0806-B4'],}\n",
    "AD_S8={'Sample':['D0806-S1','D0806-S2'],\n",
    "            'Before Blank':['D0806-B1','D0806-B2'],\n",
    "            'After Blank':['D0806-B3','D0806-B4'],}\n"
   ]
  },
  {
   "cell_type": "code",
   "execution_count": 3,
   "metadata": {
    "ExecuteTime": {
     "end_time": "2021-03-02T05:57:16.100349Z",
     "start_time": "2021-03-02T05:57:16.097820Z"
    }
   },
   "outputs": [],
   "source": [
    "ap_path='/Users/zhenjia/Desktop/Airka_Reprocess/Ariake/2015/2015.08.06/ap/'\n",
    "ad_path='/Users/zhenjia/Desktop/Airka_Reprocess/Ariake/2015/2015.08.06/ad/'"
   ]
  },
  {
   "cell_type": "code",
   "execution_count": 45,
   "metadata": {
    "ExecuteTime": {
     "end_time": "2021-03-02T07:40:47.528247Z",
     "start_time": "2021-03-02T07:40:47.525194Z"
    }
   },
   "outputs": [],
   "source": [
    "ap_list = [AP_S1,\n",
    "          AP_S2,\n",
    "          AP_S3,\n",
    "          AP_S4,\n",
    "          AP_S5,\n",
    "          AP_S6,\n",
    "          AP_S7,\n",
    "          AP_S8, ]"
   ]
  },
  {
   "cell_type": "code",
   "execution_count": 44,
   "metadata": {
    "ExecuteTime": {
     "end_time": "2021-03-02T07:40:44.761295Z",
     "start_time": "2021-03-02T07:40:44.758812Z"
    }
   },
   "outputs": [],
   "source": [
    "ad_list = [AD_S1,\n",
    "          AD_S2,\n",
    "          AD_S3,\n",
    "          AD_S4,\n",
    "          AD_S5,\n",
    "          AD_S6,\n",
    "          AD_S7,\n",
    "          AD_S8, ]"
   ]
  },
  {
   "cell_type": "code",
   "execution_count": null,
   "metadata": {},
   "outputs": [],
   "source": []
  },
  {
   "cell_type": "markdown",
   "metadata": {},
   "source": [
    "想一下这个程序的逻辑\n",
    "\n",
    "1. 计算AP 存下来，画图\n",
    "\n",
    "2. 计算AD 需要用到之前AP里面的Vol和Area，存下来，画图\n",
    "\n",
    "3.计算Aph, ap-ad，存下来，画图\n",
    "\n",
    "\n",
    "\n",
    "有一个原则就是尽量少输入\n",
    "\n",
    "所以Vol和Area只在只在之前的Ap进行单次输入\n",
    "\n",
    "出图是单个站点出图\n",
    "\n",
    "存数据是所有数据一起存"
   ]
  },
  {
   "cell_type": "code",
   "execution_count": 13,
   "metadata": {
    "ExecuteTime": {
     "end_time": "2021-03-02T06:57:57.442693Z",
     "start_time": "2021-03-02T06:57:57.439757Z"
    }
   },
   "outputs": [],
   "source": [
    "def ASC_read(path,name):\n",
    "    f=path+name+'.ASC'\n",
    "    ASC=pd.read_csv(f,names=['wave','data'])\n",
    "    data=ASC['data'].to_numpy()\n",
    "    return data"
   ]
  },
  {
   "cell_type": "code",
   "execution_count": 51,
   "metadata": {
    "ExecuteTime": {
     "end_time": "2021-03-02T09:01:52.279695Z",
     "start_time": "2021-03-02T09:01:52.274155Z"
    }
   },
   "outputs": [],
   "source": [
    "def ap_batch(ap_path,aplist,filename):\n",
    "    ap_bacth = []\n",
    "    area_list=[]\n",
    "    vol_list=[]\n",
    "    for station in aplist:\n",
    "        apB1=ASC_read(ap_path,station['Before Blank'][0])\n",
    "        apB2=ASC_read(ap_path,station['Before Blank'][1])\n",
    "        apB3=ASC_read(ap_path,station['After Blank'][0])\n",
    "        apB4=ASC_read(ap_path,station['After Blank'][1])\n",
    "\n",
    "        apS1=ASC_read(ap_path,station['Sample'][0])\n",
    "        apS2=ASC_read(ap_path,station['Sample'][1])\n",
    "        Diameter=AP_S1['Diameter']\n",
    "        vol=AP_S1['Vol']\n",
    "        area=np.pi*(np.mean(Diameter)**2)/4\n",
    "        area_list.append(area)\n",
    "        vol_list.append(vol)\n",
    "        ap_bacth.append(ap_ad_single(apB1,apB2,apB3,apB4,apS1,apS2,vol,area))\n",
    "\n",
    "    ap_bacth = np.asarray(ap_bacth)\n",
    "    f = path + filename + '.csv'\n",
    "    appd = pd.DataFrame(ap_bacth.T)\n",
    "    appd.to_csv(f)\n",
    "    return ap_bacth,area_list,vol_list"
   ]
  },
  {
   "cell_type": "code",
   "execution_count": 14,
   "metadata": {
    "ExecuteTime": {
     "end_time": "2021-03-02T06:57:57.918122Z",
     "start_time": "2021-03-02T06:57:57.901599Z"
    }
   },
   "outputs": [],
   "source": [
    "apB1=ASC_read(ap_path,AP_S1['Before Blank'][0])\n",
    "apB2=ASC_read(ap_path,AP_S1['Before Blank'][1])\n",
    "apB3=ASC_read(ap_path,AP_S1['After Blank'][0])\n",
    "apB4=ASC_read(ap_path,AP_S1['After Blank'][1])\n",
    "\n",
    "apS1=ASC_read(ap_path,AP_S1['Sample'][0])\n",
    "apS2=ASC_read(ap_path,AP_S1['Sample'][1])\n",
    "Diameter=AP_S1['Diameter']\n",
    "vol=AP_S1['Vol']"
   ]
  },
  {
   "cell_type": "code",
   "execution_count": 15,
   "metadata": {
    "ExecuteTime": {
     "end_time": "2021-03-02T07:00:06.831327Z",
     "start_time": "2021-03-02T07:00:06.815732Z"
    }
   },
   "outputs": [],
   "source": [
    "adB1=ASC_read(ad_path,AD_S1['Before Blank'][0])\n",
    "adB2=ASC_read(ad_path,AD_S1['Before Blank'][1])\n",
    "adB3=ASC_read(ad_path,AD_S1['After Blank'][0])\n",
    "adB4=ASC_read(ad_path,AD_S1['After Blank'][1])\n",
    "\n",
    "adS1=ASC_read(ad_path,AD_S1['Sample'][0])\n",
    "adS2=ASC_read(ad_path,AD_S1['Sample'][1])"
   ]
  },
  {
   "cell_type": "code",
   "execution_count": 52,
   "metadata": {
    "ExecuteTime": {
     "end_time": "2021-03-02T09:05:36.072170Z",
     "start_time": "2021-03-02T09:05:36.066376Z"
    }
   },
   "outputs": [],
   "source": [
    "def ad_batch(ad_path,adlist,filename,area_list,vol_list):\n",
    "    ad_bacth = []\n",
    "    for i in range(len(area_list)):\n",
    "        station=ad_list[i]\n",
    "        adB1=ASC_read(ad_path,station['Before Blank'][0])\n",
    "        adB2=ASC_read(ad_path,station['Before Blank'][1])\n",
    "        adB3=ASC_read(ad_path,station['After Blank'][0])\n",
    "        adB4=ASC_read(ad_path,station['After Blank'][1])\n",
    "\n",
    "        adS1=ASC_read(ad_path,station['Sample'][0])\n",
    "        adS2=ASC_read(ad_path,station['Sample'][1])\n",
    "\n",
    "        vol=vol_list[i]\n",
    "        area=area_list[i]\n",
    "\n",
    "        ad_bacth.append(ap_ad_single(adB1,adB2,adB3,adB4,adS1,adS2,vol,area))\n",
    "\n",
    "    ad_bacth = np.asarray(ad_bacth)\n",
    "    f = path + filename + '.csv'\n",
    "    adpd = pd.DataFrame(ad_bacth.T)\n",
    "    adpd.to_csv(f)\n",
    "    return ad_bacth"
   ]
  },
  {
   "cell_type": "code",
   "execution_count": null,
   "metadata": {},
   "outputs": [],
   "source": [
    "def ap_cal_plot(ap_batch,ad_batch,savep):\n",
    "    wave=np.arange(750,349,-1)\n",
    "    assert np.shape(ap_batch)[0] == np.shape(wave)[0], \"AP Wrong dimension\"\n",
    "    assert np.shape(ad_batch)[0] == np.shape(wave)[0], \"AD Wrong dimension\"\n",
    "    l=np.shape(ap_batch)[1]\n",
    "    aph_batch=ap_batch-ad_batch\n",
    "    for i in range(l):\n",
    "        plt.plot(wave, ap_batch[:, i], label='ap')\n",
    "        plt.plot(wave, ad_batch[:, i], label='ad')\n",
    "        plt.plot(wave, aph_batch[:, i], label='aph')\n",
    "        plt.legend()\n",
    "        plt.title(i)\n",
    "        plt.show()\n",
    "    "
   ]
  },
  {
   "cell_type": "code",
   "execution_count": 38,
   "metadata": {
    "ExecuteTime": {
     "end_time": "2021-03-02T07:30:09.984293Z",
     "start_time": "2021-03-02T07:30:09.845861Z"
    }
   },
   "outputs": [
    {
     "data": {
      "text/plain": [
       "[<matplotlib.lines.Line2D at 0x7ff23f728750>]"
      ]
     },
     "execution_count": 38,
     "metadata": {},
     "output_type": "execute_result"
    },
    {
     "data": {
      "image/png": "[encoded data removed]",
      "text/plain": [
       "<Figure size 432x288 with 1 Axes>"
      ]
     },
     "metadata": {
      "needs_background": "light"
     },
     "output_type": "display_data"
    }
   ],
   "source": [
    "area=np.pi*(np.mean(Diameter)**2)/4\n",
    "#area mm2\n",
    "#vol mm3\n",
    "#area/vol=mm-1\n",
    "wave=np.arange(750,349,-1)\n",
    "def ap_ad_single(B1,B2,B3,B4,S1,S2,vol,area):    \n",
    "    b_tot=np.asarray([B1,B2,B3,B4])\n",
    "    Mean_blank=np.mean(b_tot,axis=0)\n",
    "    ap_tot=np.asarray([S1,S2])\n",
    "    OD_pmean=np.mean(ap_tot,axis=0)\n",
    "    OD_p=OD_pmean-Mean_blank\n",
    "    OD_f=OD_p-OD_p[0]\n",
    "    OD_ps=0.378*OD_f+0.523*(OD_f**2)\n",
    "    a=2.303*OD_ps*area/vol\n",
    "    ## Need to notice the unit\n",
    "    return a\n",
    "ap=ap_ad_single(apB1,apB2,apB3,apB4,apS1,apS2,vol,area)\n",
    "plt.plot(wave,ap)"
   ]
  },
  {
   "cell_type": "code",
   "execution_count": 39,
   "metadata": {
    "ExecuteTime": {
     "end_time": "2021-03-02T07:30:10.740519Z",
     "start_time": "2021-03-02T07:30:10.737256Z"
    }
   },
   "outputs": [],
   "source": [
    "ad=ap_ad_single(adB1,adB2,adB3,adB4,adS1,adS2,vol,area)"
   ]
  },
  {
   "cell_type": "code",
   "execution_count": 40,
   "metadata": {
    "ExecuteTime": {
     "end_time": "2021-03-02T07:30:11.465275Z",
     "start_time": "2021-03-02T07:30:11.327672Z"
    }
   },
   "outputs": [
    {
     "data": {
      "text/plain": [
       "[<matplotlib.lines.Line2D at 0x7ff23e52c090>]"
      ]
     },
     "execution_count": 40,
     "metadata": {},
     "output_type": "execute_result"
    },
    {
     "data": {
      "image/png": "[encoded data removed]",
      "text/plain": [
       "<Figure size 432x288 with 1 Axes>"
      ]
     },
     "metadata": {
      "needs_background": "light"
     },
     "output_type": "display_data"
    }
   ],
   "source": [
    "plt.plot(wave,ap)"
   ]
  },
  {
   "cell_type": "code",
   "execution_count": 41,
   "metadata": {
    "ExecuteTime": {
     "end_time": "2021-03-02T07:30:13.708949Z",
     "start_time": "2021-03-02T07:30:13.572944Z"
    }
   },
   "outputs": [
    {
     "data": {
      "text/plain": [
       "[<matplotlib.lines.Line2D at 0x7ff23f69e310>]"
      ]
     },
     "execution_count": 41,
     "metadata": {},
     "output_type": "execute_result"
    },
    {
     "data": {
      "image/png": "[encoded data removed]",
      "text/plain": [
       "<Figure size 432x288 with 1 Axes>"
      ]
     },
     "metadata": {
      "needs_background": "light"
     },
     "output_type": "display_data"
    }
   ],
   "source": [
    "aph=ap-ad\n",
    "plt.plot(wave,ap)\n",
    "plt.plot(wave,ad)\n",
    "plt.plot(wave,aph)"
   ]
  },
  {
   "cell_type": "code",
   "execution_count": null,
   "metadata": {},
   "outputs": [],
   "source": []
  }
 ],
 "metadata": {
  "kernelspec": {
   "display_name": "Python 3",
   "language": "python",
   "name": "python3"
  },
  "language_info": {
   "codemirror_mode": {
    "name": "ipython",
    "version": 3
   },
   "file_extension": ".py",
   "mimetype": "text/x-python",
   "name": "python",
   "nbconvert_exporter": "python",
   "pygments_lexer": "ipython3",
   "version": "3.7.8"
  },
  "latex_envs": {
   "LaTeX_envs_menu_present": true,
   "autoclose": false,
   "autocomplete": true,
   "bibliofile": "biblio.bib",
   "cite_by": "apalike",
   "current_citInitial": 1,
   "eqLabelWithNumbers": true,
   "eqNumInitial": 1,
   "hotkeys": {
    "equation": "Ctrl-E",
    "itemize": "Ctrl-I"
   },
   "labels_anchors": false,
   "latex_user_defs": false,
   "report_style_numbering": false,
   "user_envs_cfg": false
  },
  "toc": {
   "base_numbering": 1,
   "nav_menu": {},
   "number_sections": true,
   "sideBar": true,
   "skip_h1_title": false,
   "title_cell": "Table of Contents",
   "title_sidebar": "Contents",
   "toc_cell": false,
   "toc_position": {},
   "toc_section_display": true,
   "toc_window_display": false
  },
  "varInspector": {
   "cols": {
    "lenName": 16,
    "lenType": 16,
    "lenVar": 40
   },
   "kernels_config": {
    "python": {
     "delete_cmd_postfix": "",
     "delete_cmd_prefix": "del ",
     "library": "var_list.py",
     "varRefreshCmd": "print(var_dic_list())"
    },
    "r": {
     "delete_cmd_postfix": ") ",
     "delete_cmd_prefix": "rm(",
     "library": "var_list.r",
     "varRefreshCmd": "cat(var_dic_list()) "
    }
   },
   "types_to_exclude": [
    "module",
    "function",
    "builtin_function_or_method",
    "instance",
    "_Feature"
   ],
   "window_display": false
  }
 },
 "nbformat": 4,
 "nbformat_minor": 4
}
