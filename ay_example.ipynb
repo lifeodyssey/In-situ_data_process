{
 "cells": [
  {
   "cell_type": "markdown",
   "metadata": {},
   "source": [
    "ay"
   ]
  },
  {
   "cell_type": "code",
   "execution_count": 1,
   "metadata": {
    "ExecuteTime": {
     "end_time": "2021-02-26T00:06:18.050738Z",
     "start_time": "2021-02-26T00:06:16.103468Z"
    }
   },
   "outputs": [],
   "source": [
    "import numpy as np\n",
    "import matplotlib.pyplot as plt\n",
    "import scipy.optimize\n",
    "import pandas as pd"
   ]
  },
  {
   "cell_type": "markdown",
   "metadata": {},
   "source": [
    "1.读入Blanck asc data\n",
    "\n",
    "2.计算Blank mean\n",
    "\n",
    "3.读入Sample data\n",
    "\n",
    "4.计算Sample-Blank\n",
    "\n",
    "5.计算ay\n",
    "\n",
    "$$\n",
    "a_{y}=\\frac{2.303}{0.1}(Sample_Blank-Sample_Blank(Refwave))\n",
    "$$\n",
    "\n",
    "6.计算ay mean\n",
    "\n",
    "7.画图 输出ay(440)和Slope"
   ]
  },
  {
   "cell_type": "code",
   "execution_count": 2,
   "metadata": {
    "ExecuteTime": {
     "end_time": "2021-02-26T00:06:22.308289Z",
     "start_time": "2021-02-26T00:06:22.251335Z"
    }
   },
   "outputs": [],
   "source": [
    "b3=pd.read_csv('/Users/zhenjia/Desktop/Airka Reprocess/Ariake/2015/2015.08.06/ay/C0806-B3.ASC',names=['wave','Blank'])"
   ]
  },
  {
   "cell_type": "code",
   "execution_count": 3,
   "metadata": {
    "ExecuteTime": {
     "end_time": "2021-02-26T00:06:23.138050Z",
     "start_time": "2021-02-26T00:06:23.135477Z"
    }
   },
   "outputs": [],
   "source": [
    "Blank1=b3['Blank'].to_numpy()"
   ]
  },
  {
   "cell_type": "code",
   "execution_count": 4,
   "metadata": {
    "ExecuteTime": {
     "end_time": "2021-02-26T00:06:24.180365Z",
     "start_time": "2021-02-26T00:06:24.170719Z"
    }
   },
   "outputs": [
    {
     "data": {
      "text/plain": [
       "array([0.1343, 0.1345, 0.1352, 0.1364, 0.1374, 0.138 , 0.1391, 0.1402,\n",
       "       0.1409, 0.1418, 0.1427, 0.1438, 0.1449, 0.1458, 0.1469, 0.148 ,\n",
       "       0.1489, 0.1499, 0.1508, 0.1515, 0.1522, 0.1533, 0.154 , 0.1549,\n",
       "       0.1557, 0.1562, 0.1571, 0.1579, 0.1587, 0.1591, 0.1592, 0.1597,\n",
       "       0.1607, 0.1609, 0.1614, 0.1616, 0.1618, 0.1621, 0.1625, 0.1628,\n",
       "       0.1627, 0.1632, 0.1631, 0.1634, 0.1635, 0.1638, 0.1638, 0.1636,\n",
       "       0.1638, 0.164 , 0.1638, 0.1637, 0.1638, 0.1639, 0.1638, 0.164 ,\n",
       "       0.164 , 0.1638, 0.1635, 0.1632, 0.1625, 0.1613, 0.1599, 0.158 ,\n",
       "       0.1557, 0.1523, 0.1487, 0.1444, 0.1392, 0.1342, 0.1285, 0.1236,\n",
       "       0.1189, 0.1151, 0.1114, 0.1082, 0.1053, 0.1026, 0.1001, 0.0977,\n",
       "       0.0952, 0.0934, 0.0912, 0.0892, 0.087 , 0.085 , 0.083 , 0.0811,\n",
       "       0.0798, 0.0782, 0.0768, 0.0757, 0.0745, 0.0736, 0.0723, 0.0717,\n",
       "       0.0707, 0.0699, 0.0693, 0.0685, 0.0678, 0.0672, 0.0663, 0.0658,\n",
       "       0.0652, 0.0649, 0.0643, 0.0639, 0.0635, 0.0631, 0.0627, 0.0623,\n",
       "       0.062 , 0.0618, 0.0618, 0.0615, 0.0612, 0.061 , 0.0608, 0.0607,\n",
       "       0.0606, 0.0604, 0.0602, 0.0601, 0.06  , 0.06  , 0.06  , 0.0598,\n",
       "       0.0597, 0.0597, 0.0594, 0.0595, 0.0595, 0.0594, 0.0595, 0.0593,\n",
       "       0.0595, 0.0592, 0.059 , 0.059 , 0.0588, 0.0585, 0.0584, 0.0581,\n",
       "       0.0574, 0.0573, 0.0568, 0.0566, 0.0565, 0.0562, 0.0561, 0.0559,\n",
       "       0.0558, 0.0556, 0.0554, 0.0554, 0.0553, 0.0553, 0.0551, 0.055 ,\n",
       "       0.0549, 0.0548, 0.0547, 0.0545, 0.0545, 0.0545, 0.0544, 0.0545,\n",
       "       0.0543, 0.0541, 0.0542, 0.054 , 0.054 , 0.054 , 0.0539, 0.0537,\n",
       "       0.0535, 0.0535, 0.0537, 0.0537, 0.0535, 0.0533, 0.0533, 0.0533,\n",
       "       0.0533, 0.0533, 0.0531, 0.053 , 0.053 , 0.053 , 0.0529, 0.0529,\n",
       "       0.0528, 0.0528, 0.0528, 0.0526, 0.0524, 0.0524, 0.0521, 0.0517,\n",
       "       0.0512, 0.0506, 0.0499, 0.0494, 0.0488, 0.0484, 0.0481, 0.0477,\n",
       "       0.0473, 0.0468, 0.0467, 0.0462, 0.0463, 0.0461, 0.0458, 0.0457,\n",
       "       0.0455, 0.045 , 0.0448, 0.0446, 0.0446, 0.0444, 0.0443, 0.0441,\n",
       "       0.044 , 0.0438, 0.0437, 0.0436, 0.0436, 0.0435, 0.0434, 0.0434,\n",
       "       0.0431, 0.0431, 0.0431, 0.0429, 0.043 , 0.0431, 0.043 , 0.0428,\n",
       "       0.0429, 0.0428, 0.0429, 0.0427, 0.0428, 0.0428, 0.0427, 0.0428,\n",
       "       0.0427, 0.0425, 0.0425, 0.0425, 0.0424, 0.0424, 0.0422, 0.0423,\n",
       "       0.0423, 0.0421, 0.0424, 0.0421, 0.0421, 0.0421, 0.0421, 0.0419,\n",
       "       0.0422, 0.0421, 0.0422, 0.0422, 0.0422, 0.0422, 0.0422, 0.042 ,\n",
       "       0.0419, 0.0419, 0.0419, 0.042 , 0.0422, 0.0421, 0.042 , 0.0418,\n",
       "       0.0418, 0.0421, 0.042 , 0.0418, 0.0418, 0.0418, 0.0417, 0.0417,\n",
       "       0.042 , 0.0417, 0.0415, 0.0414, 0.0414, 0.0414, 0.0414, 0.0415,\n",
       "       0.0415, 0.0413, 0.0414, 0.0412, 0.0413, 0.0412, 0.0414, 0.0413,\n",
       "       0.0412, 0.0412, 0.0412, 0.0412, 0.041 , 0.0408, 0.0408, 0.0408,\n",
       "       0.0409, 0.0407, 0.0407, 0.0405, 0.0406, 0.0406, 0.0406, 0.0406,\n",
       "       0.0407, 0.0406, 0.0406, 0.0406, 0.0407, 0.0405, 0.0406, 0.0407,\n",
       "       0.0407, 0.0406, 0.0404, 0.0406, 0.0406, 0.0406, 0.0406, 0.0405,\n",
       "       0.0406, 0.0407, 0.0406, 0.0407, 0.0404, 0.0407, 0.0407, 0.0406,\n",
       "       0.0405, 0.0406, 0.0405, 0.0407, 0.0405, 0.0405, 0.0406, 0.0407,\n",
       "       0.0405, 0.0406, 0.0405, 0.0405, 0.0405, 0.0407, 0.0406, 0.0406,\n",
       "       0.0405, 0.0404, 0.0406, 0.0404, 0.0403, 0.0404, 0.0406, 0.0406,\n",
       "       0.0406, 0.0404, 0.0404, 0.0406, 0.0405, 0.0403, 0.0404, 0.0404,\n",
       "       0.0401, 0.0402, 0.0402, 0.0403, 0.0402, 0.0403, 0.0405, 0.0402,\n",
       "       0.0403, 0.0403, 0.0403, 0.0405, 0.0406, 0.0407, 0.0405, 0.0406,\n",
       "       0.0405, 0.0406, 0.0409, 0.0406, 0.0406, 0.0407, 0.0408, 0.0407,\n",
       "       0.0408, 0.0407, 0.041 , 0.0407, 0.0409, 0.0409, 0.0406, 0.0407,\n",
       "       0.0409, 0.041 , 0.0412, 0.0411, 0.0412, 0.0412, 0.0411, 0.0412,\n",
       "       0.0412, 0.0411, 0.0412, 0.041 , 0.0411, 0.0412, 0.0412, 0.041 ,\n",
       "       0.0412, 0.0413, 0.0414, 0.0414, 0.0411, 0.0411, 0.0414, 0.0417,\n",
       "       0.0415, 0.0414, 0.0414, 0.0414, 0.0416, 0.0417, 0.0416, 0.0417,\n",
       "       0.0417, 0.0423, 0.0421, 0.0423, 0.0421, 0.0417, 0.042 , 0.0419,\n",
       "       0.0422, 0.0418, 0.0417, 0.0417, 0.0419, 0.0422, 0.0423, 0.0427,\n",
       "       0.0424, 0.0424, 0.0424, 0.0422, 0.0422, 0.0427, 0.0425, 0.0423,\n",
       "       0.0424, 0.0423, 0.0424, 0.0427, 0.0426, 0.0427, 0.0428, 0.0426,\n",
       "       0.0429, 0.0425, 0.043 , 0.0429, 0.0428, 0.0425, 0.0432, 0.0431,\n",
       "       0.0429, 0.043 , 0.0432, 0.0431, 0.0431, 0.0429, 0.0436, 0.044 ,\n",
       "       0.0433, 0.0436, 0.0436, 0.0438, 0.0441, 0.0435, 0.0439, 0.0417,\n",
       "       0.0417, 0.0423, 0.0421, 0.042 , 0.0422])"
      ]
     },
     "execution_count": 4,
     "metadata": {},
     "output_type": "execute_result"
    }
   ],
   "source": [
    "Blank1"
   ]
  },
  {
   "cell_type": "code",
   "execution_count": 5,
   "metadata": {
    "ExecuteTime": {
     "end_time": "2021-02-26T00:06:25.256606Z",
     "start_time": "2021-02-26T00:06:25.246409Z"
    }
   },
   "outputs": [],
   "source": [
    "b4=pd.read_csv('/Users/zhenjia/Desktop/Airka Reprocess/Ariake/2015/2015.08.06/ay/C0806-B4.ASC',names=['wave','Blank'])\n",
    "Blank4=b4['Blank'].to_numpy()\n",
    "\n",
    "\n",
    "b5=pd.read_csv('/Users/zhenjia/Desktop/Airka Reprocess/Ariake/2015/2015.08.06/ay/C0806-B5.ASC',names=['wave','Blank'])\n",
    "Blank5=b5['Blank'].to_numpy()\n",
    "\n",
    "\n",
    "b6=pd.read_csv('/Users/zhenjia/Desktop/Airka Reprocess/Ariake/2015/2015.08.06/ay/C0806-B6.ASC',names=['wave','Blank'])\n",
    "Blank6=b6['Blank'].to_numpy()\n"
   ]
  },
  {
   "cell_type": "code",
   "execution_count": 6,
   "metadata": {
    "ExecuteTime": {
     "end_time": "2021-02-26T00:06:26.799118Z",
     "start_time": "2021-02-26T00:06:26.795029Z"
    }
   },
   "outputs": [
    {
     "data": {
      "text/plain": [
       "(4, 501)"
      ]
     },
     "execution_count": 6,
     "metadata": {},
     "output_type": "execute_result"
    }
   ],
   "source": [
    "b_tot=np.asarray([Blank1,Blank4,Blank5,Blank6])\n",
    "np.shape(b_tot)"
   ]
  },
  {
   "cell_type": "code",
   "execution_count": 7,
   "metadata": {
    "ExecuteTime": {
     "end_time": "2021-02-26T00:06:27.776711Z",
     "start_time": "2021-02-26T00:06:27.773071Z"
    }
   },
   "outputs": [
    {
     "data": {
      "text/plain": [
       "(501,)"
      ]
     },
     "execution_count": 7,
     "metadata": {},
     "output_type": "execute_result"
    }
   ],
   "source": [
    "Mean_blank=np.mean(b_tot,axis=0)\n",
    "np.shape(Mean_blank)"
   ]
  },
  {
   "cell_type": "code",
   "execution_count": 8,
   "metadata": {
    "ExecuteTime": {
     "end_time": "2021-02-26T00:06:28.650650Z",
     "start_time": "2021-02-26T00:06:28.645320Z"
    }
   },
   "outputs": [],
   "source": [
    "s1=pd.read_csv('/Users/zhenjia/Desktop/Airka Reprocess/Ariake/2015/2015.08.06/ay/C0806-S1.ASC',\n",
    "                  names=['wave','data'])\n",
    "S1=s1['data'].to_numpy()"
   ]
  },
  {
   "cell_type": "code",
   "execution_count": 9,
   "metadata": {
    "ExecuteTime": {
     "end_time": "2021-02-26T00:06:29.537954Z",
     "start_time": "2021-02-26T00:06:29.532959Z"
    }
   },
   "outputs": [],
   "source": [
    "s2=pd.read_csv('/Users/zhenjia/Desktop/Airka Reprocess/Ariake/2015/2015.08.06/ay/C0806-S2.ASC',\n",
    "                  names=['wave','data'])\n",
    "S2=s2['data'].to_numpy()"
   ]
  },
  {
   "cell_type": "code",
   "execution_count": 10,
   "metadata": {
    "ExecuteTime": {
     "end_time": "2021-02-26T00:06:30.472336Z",
     "start_time": "2021-02-26T00:06:30.469940Z"
    }
   },
   "outputs": [],
   "source": [
    "S1b=S1-Mean_blank\n",
    "S2b=S2-Mean_blank"
   ]
  },
  {
   "cell_type": "code",
   "execution_count": null,
   "metadata": {},
   "outputs": [],
   "source": []
  },
  {
   "cell_type": "code",
   "execution_count": 11,
   "metadata": {
    "ExecuteTime": {
     "end_time": "2021-02-26T00:06:31.964292Z",
     "start_time": "2021-02-26T00:06:31.961702Z"
    }
   },
   "outputs": [],
   "source": [
    "ay1=(2.303/0.1)*(S1b-S1b[50])"
   ]
  },
  {
   "cell_type": "code",
   "execution_count": 12,
   "metadata": {
    "ExecuteTime": {
     "end_time": "2021-02-26T00:06:33.024501Z",
     "start_time": "2021-02-26T00:06:33.021936Z"
    }
   },
   "outputs": [],
   "source": [
    "ay2=(2.303/0.1)*(S2b-S2b[50])"
   ]
  },
  {
   "cell_type": "code",
   "execution_count": 13,
   "metadata": {
    "ExecuteTime": {
     "end_time": "2021-02-26T00:06:33.700770Z",
     "start_time": "2021-02-26T00:06:33.698233Z"
    }
   },
   "outputs": [],
   "source": [
    "ay=np.mean([ay1,ay2],axis=0)"
   ]
  },
  {
   "cell_type": "code",
   "execution_count": 14,
   "metadata": {
    "ExecuteTime": {
     "end_time": "2021-02-26T00:06:34.321216Z",
     "start_time": "2021-02-26T00:06:34.317856Z"
    }
   },
   "outputs": [
    {
     "data": {
      "text/plain": [
       "(501,)"
      ]
     },
     "execution_count": 14,
     "metadata": {},
     "output_type": "execute_result"
    }
   ],
   "source": [
    "np.shape(ay)"
   ]
  },
  {
   "cell_type": "code",
   "execution_count": 15,
   "metadata": {
    "ExecuteTime": {
     "end_time": "2021-02-26T00:06:35.004521Z",
     "start_time": "2021-02-26T00:06:35.002123Z"
    }
   },
   "outputs": [],
   "source": [
    "wave=s2['wave'].to_numpy()"
   ]
  },
  {
   "cell_type": "code",
   "execution_count": 16,
   "metadata": {
    "ExecuteTime": {
     "end_time": "2021-02-26T00:06:36.065684Z",
     "start_time": "2021-02-26T00:06:35.939162Z"
    }
   },
   "outputs": [
    {
     "data": {
      "text/plain": [
       "[<matplotlib.lines.Line2D at 0x7fd115c9df50>]"
      ]
     },
     "execution_count": 16,
     "metadata": {},
     "output_type": "execute_result"
    },
    {
     "data": {
      "image/png": "[encoded data removed]",
      "text/plain": [
       "<Figure size 432x288 with 1 Axes>"
      ]
     },
     "metadata": {
      "needs_background": "light"
     },
     "output_type": "display_data"
    }
   ],
   "source": [
    "plt.plot(wave,ay)"
   ]
  },
  {
   "cell_type": "code",
   "execution_count": 17,
   "metadata": {
    "ExecuteTime": {
     "end_time": "2021-02-26T06:20:35.609119Z",
     "start_time": "2021-02-26T06:20:35.602736Z"
    }
   },
   "outputs": [
    {
     "data": {
      "text/plain": [
       "0.0"
      ]
     },
     "execution_count": 17,
     "metadata": {},
     "output_type": "execute_result"
    }
   ],
   "source": [
    "ay[50]"
   ]
  },
  {
   "cell_type": "code",
   "execution_count": 18,
   "metadata": {
    "ExecuteTime": {
     "end_time": "2021-02-26T07:23:08.118087Z",
     "start_time": "2021-02-26T07:23:08.114981Z"
    }
   },
   "outputs": [],
   "source": [
    "find = lambda k, wavelength: np.abs(wavelength - k).argmin()  # Index of closest wavelength\n",
    "key = lambda k, wavelength: wavelength[find(k, wavelength)]  # Value of closest wavelength"
   ]
  },
  {
   "cell_type": "code",
   "execution_count": 22,
   "metadata": {
    "ExecuteTime": {
     "end_time": "2021-02-26T07:24:30.330030Z",
     "start_time": "2021-02-26T07:24:30.327653Z"
    }
   },
   "outputs": [],
   "source": [
    "ay440=ay[find(440,wave)]"
   ]
  },
  {
   "cell_type": "code",
   "execution_count": null,
   "metadata": {},
   "outputs": [],
   "source": [
    "def exp():\n",
    "    "
   ]
  }
 ],
 "metadata": {
  "kernelspec": {
   "display_name": "Python 3",
   "language": "python",
   "name": "python3"
  },
  "language_info": {
   "codemirror_mode": {
    "name": "ipython",
    "version": 3
   },
   "file_extension": ".py",
   "mimetype": "text/x-python",
   "name": "python",
   "nbconvert_exporter": "python",
   "pygments_lexer": "ipython3",
   "version": "3.7.8"
  },
  "latex_envs": {
   "LaTeX_envs_menu_present": true,
   "autoclose": false,
   "autocomplete": true,
   "bibliofile": "biblio.bib",
   "cite_by": "apalike",
   "current_citInitial": 1,
   "eqLabelWithNumbers": true,
   "eqNumInitial": 1,
   "hotkeys": {
    "equation": "Ctrl-E",
    "itemize": "Ctrl-I"
   },
   "labels_anchors": false,
   "latex_user_defs": false,
   "report_style_numbering": false,
   "user_envs_cfg": false
  },
  "toc": {
   "base_numbering": 1,
   "nav_menu": {},
   "number_sections": true,
   "sideBar": true,
   "skip_h1_title": false,
   "title_cell": "Table of Contents",
   "title_sidebar": "Contents",
   "toc_cell": false,
   "toc_position": {},
   "toc_section_display": true,
   "toc_window_display": false
  },
  "varInspector": {
   "cols": {
    "lenName": 16,
    "lenType": 16,
    "lenVar": 40
   },
   "kernels_config": {
    "python": {
     "delete_cmd_postfix": "",
     "delete_cmd_prefix": "del ",
     "library": "var_list.py",
     "varRefreshCmd": "print(var_dic_list())"
    },
    "r": {
     "delete_cmd_postfix": ") ",
     "delete_cmd_prefix": "rm(",
     "library": "var_list.r",
     "varRefreshCmd": "cat(var_dic_list()) "
    }
   },
   "position": {
    "height": "368px",
    "left": "1422px",
    "right": "20px",
    "top": "120px",
    "width": "350px"
   },
   "types_to_exclude": [
    "module",
    "function",
    "builtin_function_or_method",
    "instance",
    "_Feature"
   ],
   "window_display": true
  }
 },
 "nbformat": 4,
 "nbformat_minor": 4
}
